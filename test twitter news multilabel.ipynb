{
 "cells": [
  {
   "cell_type": "code",
   "execution_count": 2,
   "metadata": {},
   "outputs": [
    {
     "data": {
      "text/plain": [
       "7568"
      ]
     },
     "execution_count": 2,
     "metadata": {},
     "output_type": "execute_result"
    }
   ],
   "source": [
    "## data processsing\n",
    "import json\n",
    "import pandas as pd\n",
    "from sklearn.preprocessing import MultiLabelBinarizer\n",
    "\n",
    "############################# \n",
    "############ file path\n",
    "filepath = \"twitter.json\"\n",
    "filepath2 = \"twits_raw_20180725.json\"\n",
    "#############################\n",
    "\n",
    "def load_json_multiple(segments):\n",
    "    chunk = \"\"\n",
    "    news_list = []\n",
    "    for segment in segments:\n",
    "        chunk += segment\n",
    "        try:\n",
    "            yield json.loads(chunk)\n",
    "            chunk = \"\"\n",
    "        except ValueError:\n",
    "            pass\n",
    "def get_news_list(path):\n",
    "    news_list = []\n",
    "    with open(path) as f:\n",
    "        for parsed_json in load_json_multiple(f):\n",
    "            news_list.append(parsed_json)\n",
    "    return news_list\n",
    "def get_tag_list(twit_list):\n",
    "    tag_list = []\n",
    "    for twit in twit_list:\n",
    "        for tag in twit['tags']:\n",
    "            if tag not in tag_list and tag != 'NONE':\n",
    "                tag_list.append(tag)\n",
    "    return tag_list\n",
    "def get_tagged_new_list(path):\n",
    "    twit_list = get_news_list(path)\n",
    "    tag_list = get_tag_list(twit_list)\n",
    "\n",
    "    news_list_G9 = [ item for item in twit_list \n",
    "                    if bool(set(tag_list) & set(item['tags']))]\n",
    "\n",
    "    news_list_none = [item for item in twit_list if item['tags'] == ['NONE']]\n",
    "    return news_list_G9, news_list_none\n",
    "\n",
    "tagged_news, none_tagged_news = get_tagged_new_list(filepath)\n",
    "tagged_news2, none_tagged_news2 = get_tagged_new_list(filepath2)\n",
    "newer_list = tagged_news2[-len(tagged_news2) + len(tagged_news):]\n",
    "len(newer_list)"
   ]
  },
  {
   "cell_type": "code",
   "execution_count": 3,
   "metadata": {},
   "outputs": [
    {
     "name": "stdout",
     "output_type": "stream",
     "text": [
      "7568\n",
      "[['EUR'], ['USD'], ['EUR'], ['CNY'], ['USD', 'CNY'], ['GBP'], ['JPY'], ['CHF', 'USD'], ['EUR', 'USD'], ['USD', 'CNY']]\n",
      "[[0 0 0 0 1 0 0 0 0]\n",
      " [0 0 0 0 0 0 0 0 1]\n",
      " [0 0 0 0 1 0 0 0 0]\n",
      " [0 0 0 1 0 0 0 0 0]\n",
      " [0 0 0 1 0 0 0 0 1]\n",
      " [0 0 0 0 0 1 0 0 0]\n",
      " [0 0 0 0 0 0 1 0 0]\n",
      " [0 0 1 0 0 0 0 0 1]\n",
      " [0 0 0 0 1 0 0 0 1]\n",
      " [0 0 0 1 0 0 0 0 1]]\n",
      "[16, 256, 16, 8, 264, 32, 64, 260, 272, 264]\n"
     ]
    }
   ],
   "source": [
    "sample_twits_list = newer_list.copy()\n",
    "X = [\"author: \" + twit[\"author\"] +\" \\n \" + twit['text'] for twit in sample_twits_list]\n",
    "y_raw = [twit[\"tags\"] for twit in sample_twits_list]\n",
    "mb = MultiLabelBinarizer()\n",
    "y=mb.fit_transform(y_raw)\n",
    "print(len(y_raw))\n",
    "print(y_raw[0:10])\n",
    "print(y[0:10])\n",
    "def bin2dec(bin_list):\n",
    "    int_num = 0\n",
    "    for i, digit in enumerate(bin_list):\n",
    "        int_num = int_num + digit*(2**i)\n",
    "    return int_num\n",
    "\n",
    "y_int = []\n",
    "for item in y:\n",
    "    y_int.append(bin2dec(item))\n",
    "print(y_int[0:10])"
   ]
  },
  {
   "cell_type": "code",
   "execution_count": null,
   "metadata": {
    "collapsed": true
   },
   "outputs": [],
   "source": [
    "# num_train = int(0.8*len(X))\n",
    "# X_train = X[:num_train]\n",
    "# X_test = X[num_train:]\n",
    "# # y_train = y[:num_train]\n",
    "# # y_test = y[num_train:]\n",
    "# y_train = y_int[:num_train]\n",
    "# y_test = y_int[num_train:]"
   ]
  },
  {
   "cell_type": "code",
   "execution_count": 4,
   "metadata": {},
   "outputs": [
    {
     "data": {
      "text/plain": [
       "7568"
      ]
     },
     "execution_count": 4,
     "metadata": {},
     "output_type": "execute_result"
    }
   ],
   "source": [
    "len(y_int)"
   ]
  },
  {
   "cell_type": "markdown",
   "metadata": {},
   "source": [
    "# load the packages"
   ]
  },
  {
   "cell_type": "code",
   "execution_count": 5,
   "metadata": {},
   "outputs": [],
   "source": [
    "from sklearn.ensemble import RandomForestClassifier, VotingClassifier\n",
    "from sklearn.neural_network import MLPClassifier\n",
    "from sklearn.feature_extraction.text import CountVectorizer\n",
    "from sklearn.feature_extraction.text import TfidfTransformer\n",
    "from sklearn.pipeline import Pipeline\n",
    "import lightgbm as lgbm\n",
    "import time\n",
    "import pickle\n"
   ]
  },
  {
   "cell_type": "markdown",
   "metadata": {},
   "source": [
    "# loading the model"
   ]
  },
  {
   "cell_type": "code",
   "execution_count": 15,
   "metadata": {},
   "outputs": [
    {
     "name": "stdout",
     "output_type": "stream",
     "text": [
      "0.9867864693446089\n"
     ]
    },
    {
     "name": "stderr",
     "output_type": "stream",
     "text": [
      "/usr/local/lib/python3.5/dist-packages/sklearn/preprocessing/label.py:151: DeprecationWarning: The truth value of an empty array is ambiguous. Returning False, but in future this will result in an error. Use `array.size > 0` to check that an array is not empty.\n",
      "  if diff:\n"
     ]
    }
   ],
   "source": [
    "import pickle\n",
    "filename = 'multilabel_model_20180725.sav'\n",
    "## test the whole  dataset 7.25\n",
    "loaded_model = pickle.load(open(filename, 'rb'))\n",
    "score = loaded_model.score(X, y_int)\n",
    "print(score)"
   ]
  },
  {
   "cell_type": "code",
   "execution_count": null,
   "metadata": {},
   "outputs": [],
   "source": []
  },
  {
   "cell_type": "code",
   "execution_count": 21,
   "metadata": {},
   "outputs": [
    {
     "name": "stderr",
     "output_type": "stream",
     "text": [
      "/Users/zhang/anaconda3/lib/python3.6/site-packages/sklearn/feature_extraction/text.py:1059: FutureWarning: Conversion of the second argument of issubdtype from `float` to `np.floating` is deprecated. In future, it will be treated as `np.float64 == np.dtype(float).type`.\n",
      "  if hasattr(X, 'dtype') and np.issubdtype(X.dtype, np.float):\n"
     ]
    },
    {
     "name": "stdout",
     "output_type": "stream",
     "text": [
      "0.7704809725158562\n"
     ]
    }
   ],
   "source": [
    "\n",
    "###  random forest\n",
    "\n",
    "filename = 'model/multilabel_model_rf_20180725.sav'\n",
    "## test the whole  dataset \n",
    "loaded_model_rf = pickle.load(open(filename, 'rb'))\n",
    "score = loaded_model_rf.score(X, y_int)\n",
    "print(score)"
   ]
  },
  {
   "cell_type": "code",
   "execution_count": 5,
   "metadata": {},
   "outputs": [
    {
     "name": "stdout",
     "output_type": "stream",
     "text": [
      "0.676400634249\n"
     ]
    }
   ],
   "source": [
    "### mlp\n",
    "filename = 'model/multilabel_model_mlp_20180725.sav'\n",
    "## test the whole  dataset \n",
    "loaded_model_rf = pickle.load(open(filename, 'rb'))\n",
    "score = loaded_model_rf.score(X, y_int)\n",
    "print(score)"
   ]
  },
  {
   "cell_type": "code",
   "execution_count": 16,
   "metadata": {},
   "outputs": [
    {
     "name": "stdout",
     "output_type": "stream",
     "text": [
      "0.9892970401691332\n"
     ]
    },
    {
     "name": "stderr",
     "output_type": "stream",
     "text": [
      "/usr/local/lib/python3.5/dist-packages/sklearn/preprocessing/label.py:151: DeprecationWarning: The truth value of an empty array is ambiguous. Returning False, but in future this will result in an error. Use `array.size > 0` to check that an array is not empty.\n",
      "  if diff:\n"
     ]
    }
   ],
   "source": [
    "# vote \n",
    "filename = 'multilabel_model_vote_20180725.sav'\n",
    "loaded_model_rf = pickle.load(open(filename, 'rb'))\n",
    "score = loaded_model_rf.score(X, y_int)\n",
    "print(score)"
   ]
  },
  {
   "cell_type": "code",
   "execution_count": null,
   "metadata": {},
   "outputs": [],
   "source": []
  },
  {
   "cell_type": "code",
   "execution_count": null,
   "metadata": {
    "collapsed": true
   },
   "outputs": [],
   "source": []
  },
  {
   "cell_type": "code",
   "execution_count": null,
   "metadata": {
    "collapsed": true
   },
   "outputs": [],
   "source": []
  },
  {
   "cell_type": "code",
   "execution_count": null,
   "metadata": {
    "collapsed": true
   },
   "outputs": [],
   "source": []
  },
  {
   "cell_type": "markdown",
   "metadata": {},
   "source": [
    "# Error analysis"
   ]
  },
  {
   "cell_type": "code",
   "execution_count": null,
   "metadata": {
    "collapsed": true
   },
   "outputs": [],
   "source": [
    "## make the results back to binary\n",
    "import numpy as np\n",
    "y_pred = y_predicted.copy()\n",
    "def dec2bin(num_list):\n",
    "    bin_list = []\n",
    "    for int_num in num_list:\n",
    "        bin_sub_list = []\n",
    "        for i in range(9):\n",
    "    #         print(int_num)\n",
    "            digit = int_num % 2\n",
    "            int_num = int(int_num//2)\n",
    "            bin_sub_list.append(digit)\n",
    "        bin_list.append(bin_sub_list)\n",
    "    return bin_list\n",
    "\n",
    "data_ = {'twit': X_test, \n",
    "         'label': mb.inverse_transform(np.asarray(dec2bin(y_test))),\n",
    "         'label_pred': mb.inverse_transform(np.asarray(dec2bin(y_pred))),\n",
    "         'correct': y_pred == y_test}\n",
    "df = pd.DataFrame(data=data_)\n",
    "df.head()\n",
    "\n",
    "# bin_num1 = [1,0,0,0,1,0,0,0,0]\n",
    "# bin_num2 = [0,0,0,0,1,0,0,0,1]\n",
    "# int_num = bin2dec(bin_num1)\n",
    "# print(int_num)\n",
    "# print(dec2bin([int_num]))\n",
    "df.to_csv('data/results_20180725.csv', encoding='utf-8')"
   ]
  },
  {
   "cell_type": "code",
   "execution_count": null,
   "metadata": {
    "collapsed": true
   },
   "outputs": [],
   "source": [
    "df['twit'].iloc[0]"
   ]
  }
 ],
 "metadata": {
  "kernelspec": {
   "display_name": "Python 3",
   "language": "python",
   "name": "python3"
  },
  "language_info": {
   "codemirror_mode": {
    "name": "ipython",
    "version": 3
   },
   "file_extension": ".py",
   "mimetype": "text/x-python",
   "name": "python",
   "nbconvert_exporter": "python",
   "pygments_lexer": "ipython3",
   "version": "3.5.2"
  }
 },
 "nbformat": 4,
 "nbformat_minor": 2
}
